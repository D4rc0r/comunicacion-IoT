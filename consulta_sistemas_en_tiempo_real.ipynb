{
  "nbformat": 4,
  "nbformat_minor": 0,
  "metadata": {
    "colab": {
      "name": "consulta sistemas en tiempo real.ipynb",
      "provenance": [],
      "authorship_tag": "ABX9TyPKnO0g3NaA8DU3+G3vpyGd",
      "include_colab_link": true
    },
    "kernelspec": {
      "name": "python3",
      "display_name": "Python 3"
    },
    "language_info": {
      "name": "python"
    }
  },
  "cells": [
    {
      "cell_type": "markdown",
      "metadata": {
        "id": "view-in-github",
        "colab_type": "text"
      },
      "source": [
        "<a href=\"https://colab.research.google.com/github/D4rc0r/comunicacion-IoT/blob/master/consulta_sistemas_en_tiempo_real.ipynb\" target=\"_parent\"><img src=\"https://colab.research.google.com/assets/colab-badge.svg\" alt=\"Open In Colab\"/></a>"
      ]
    },
    {
      "cell_type": "markdown",
      "source": [
        "#Sistemas En tiempo Real\n",
        "Primera consulta "
      ],
      "metadata": {
        "id": "YWkxUI8wqXAh"
      }
    },
    {
      "cell_type": "markdown",
      "source": [
        "##Definiciones:"
      ],
      "metadata": {
        "id": "4CVIQZ9yvj-u"
      }
    },
    {
      "cell_type": "markdown",
      "source": [
        "###Periodo \n",
        "\n",
        "Tiempo en el cual se realiza un procesamiento de datos, este varía dependiendo de la aplicación, en una aeronave por ejemplo pueden necesitarse el procesamiento de datos cada 10 $ms$."
      ],
      "metadata": {
        "id": "04s5ER24qv4u"
      }
    },
    {
      "cell_type": "markdown",
      "source": [
        "### Tiempo de Retardo\n",
        "\n",
        "El término puede estar asociado al tiempo que transcurre antes de realizar una instrucción cuando se refiere al uso de temporizadores o puede referirse al tiempo en que se da la respuesta a un suceso, el cual depende si es un sistema blando o duro.\n"
      ],
      "metadata": {
        "id": "Lc4fsN6Urx9f"
      }
    },
    {
      "cell_type": "markdown",
      "source": [
        "### Tiempo de Respuesta\n",
        "\n",
        "Es el tiempo que transcurre desque que un evento ocurre hasta que este es atendido."
      ],
      "metadata": {
        "id": "Tumck481tJpu"
      }
    },
    {
      "cell_type": "markdown",
      "source": [
        "###Deadline\n",
        "\n",
        "Tiempo en el que se estima que un evento sea atendido"
      ],
      "metadata": {
        "id": "Hmt1YYCMtrRt"
      }
    },
    {
      "cell_type": "markdown",
      "source": [
        "##Metodologías de solución de problemas de programación en sistemas embebidos"
      ],
      "metadata": {
        "id": "pMt39obavpYE"
      }
    },
    {
      "cell_type": "markdown",
      "source": [
        "### Superloop\n",
        "\n",
        "Un solo ciclo corre las tareas secuencialmente, el sistema verifica constantemente si el dispositivo necesita ser atendido por la CPU, una desventaja es que no puede usarse cuando se requiere un deadline ademas hay conflicto en la comunicación entre máquinas de estado "
      ],
      "metadata": {
        "id": "WaHCtGDIt3ec"
      }
    },
    {
      "cell_type": "markdown",
      "source": [
        "### Interrupciones\n",
        "\n",
        "El dispositivo advierte a la CPU que hay una ación por ser atendida, la desventaja es que el sistema siempre de ve perturbado cuando hay una interrupción y esta puede ocurrir en cualquier instante.   "
      ],
      "metadata": {
        "id": "0KOPxe1CvNGe"
      }
    },
    {
      "cell_type": "markdown",
      "source": [
        "### Sistema operativo en tiempo real\n",
        "\n",
        "Usa una interfáz de sistema entre la aplicación y el procesador, la diferencia entre sistema operativo y sistema operativo en tiempo real se refiere a la velocidad de respuesta, esta metodología permite la organización de las tareas la desventaja es que requiere bastante memoria. "
      ],
      "metadata": {
        "id": "i8iTuXIUwWAH"
      }
    },
    {
      "cell_type": "markdown",
      "source": [
        "##Sistema operativo\n",
        "\n",
        "El sistema perativo se encarga de obtener una instrrucción configurada en una memoria, decodifica la instrucción, ejecuta dicha instrucción y pasa a la siguiente, dentro de las definiciones puede asumirse como lo que controla la ejecución de programas para prevenir errores y el uso no adecuado del computador, o como un administrador de recursos al asignar de forma eficiente y precisa los recursos como memoria, CPU y en algunos casos software."
      ],
      "metadata": {
        "id": "xkoIWkhgxVF1"
      }
    },
    {
      "cell_type": "markdown",
      "source": [
        "### Scheduler\n",
        "\n",
        "Es la parte del kernel o nucleo de un sistema en tiempo real que determina que tarea será ejecutada.\n"
      ],
      "metadata": {
        "id": "PEBY8dq8y0P8"
      }
    },
    {
      "cell_type": "markdown",
      "source": [
        "### Planificador de tareas de tipo CFQ\n",
        "\n",
        "El planificador completamente justo planea maximizar el uso de la CPU con diferentes tareas ejecutadas permitiendo de esta manera el uso interactivo de la maquina, comunmente utilizado en sistemas operativos de propósito general como linux, el programador define el flujo y decide el orden de la ejecución."
      ],
      "metadata": {
        "id": "g4MYvv7YzDWt"
      }
    },
    {
      "cell_type": "markdown",
      "source": [
        "### Planificador guiado por eventos (ED)\n",
        "\n",
        "En este planificador se cambia la tarea que este realizando cuando un evento necesita servicio, el usuario controla y define el flujo. "
      ],
      "metadata": {
        "id": "Hk7SsJuU0Cxj"
      }
    }
  ]
}